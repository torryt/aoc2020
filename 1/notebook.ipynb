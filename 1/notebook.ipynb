{
 "cells": [
  {
   "cell_type": "code",
   "execution_count": 7,
   "metadata": {},
   "outputs": [
    {
     "data": {
      "text/plain": [
       "[1695, 1157, 1484, 1717, 622, 1513, 1924, 63, 1461, 1971]"
      ]
     },
     "execution_count": 7,
     "metadata": {},
     "output_type": "execute_result"
    }
   ],
   "source": [
    "lines = []\n",
    "with open('numbers.txt') as f:\n",
    "    lines = f.readlines()\n",
    "\n",
    "numbers = [int(x.strip()) for x in content]\n",
    "numbers[:10]"
   ]
  },
  {
   "cell_type": "code",
   "execution_count": 26,
   "metadata": {},
   "outputs": [
    {
     "name": "stdout",
     "output_type": "stream",
     "text": [
      "x: 138 + y: 1882 = 2020\n",
      "\n",
      "x * y =  259716\n"
     ]
    }
   ],
   "source": [
    "# 1 \n",
    "for (x,y) in combinations(numbers, 2):\n",
    "    if x + y == 2020:\n",
    "        print(f\"x: {x} + y: {y} = 2020\\n\")\n",
    "        print(\"x * y = \", x*y)\n"
   ]
  },
  {
   "cell_type": "code",
   "execution_count": 27,
   "metadata": {},
   "outputs": [
    {
     "name": "stdout",
     "output_type": "stream",
     "text": [
      "x: 272 + y: 308 + z: 1440 = 2020\n",
      "\n",
      "x * y * z =  120637440\n"
     ]
    }
   ],
   "source": [
    "from itertools import combinations\n",
    "\n",
    "# 2\n",
    "for (x,y,z) in combinations(numbers, 3):\n",
    "    if x + y + z == 2020:\n",
    "        print(f\"x: {x} + y: {y} + z: {z} = 2020\\n\")\n",
    "        print(\"x * y * z = \", x*y*z)\n"
   ]
  },
  {
   "cell_type": "code",
   "execution_count": null,
   "metadata": {},
   "outputs": [],
   "source": []
  }
 ],
 "metadata": {
  "kernelspec": {
   "display_name": "Python 3",
   "language": "python",
   "name": "python3"
  },
  "language_info": {
   "codemirror_mode": {
    "name": "ipython",
    "version": 3
   },
   "file_extension": ".py",
   "mimetype": "text/x-python",
   "name": "python",
   "nbconvert_exporter": "python",
   "pygments_lexer": "ipython3",
   "version": "3.9.0"
  }
 },
 "nbformat": 4,
 "nbformat_minor": 4
}
